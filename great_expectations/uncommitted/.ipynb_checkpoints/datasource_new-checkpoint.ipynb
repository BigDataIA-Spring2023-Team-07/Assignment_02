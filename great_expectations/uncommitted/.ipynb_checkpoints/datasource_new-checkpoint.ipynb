{
 "cells": [
  {
   "cell_type": "markdown",
   "id": "58e2e46c",
   "metadata": {},
   "source": [
    "# Create a new pandas Datasource\n",
    "Use this notebook to configure a new pandas Datasource and add it to your project."
   ]
  },
  {
   "cell_type": "code",
   "execution_count": 1,
   "id": "08e102d3",
   "metadata": {},
   "outputs": [],
   "source": [
    "import great_expectations as gx\n",
    "from great_expectations.cli.datasource import sanitize_yaml_and_save_datasource, check_if_datasource_name_exists\n",
    "context = gx.get_context()"
   ]
  },
  {
   "cell_type": "markdown",
   "id": "bf3f928f",
   "metadata": {},
   "source": [
    "## Customize Your Datasource Configuration\n",
    "\n",
    "**If you are new to Great Expectations Datasources,** you should check out our [how-to documentation](https://docs.greatexpectations.io/docs/guides/connecting_to_your_data/connect_to_data_overview)\n",
    "\n",
    "**My configuration is not so simple - are there more advanced options?**\n",
    "Glad you asked! Datasources are versatile. Please see our [How To Guides](https://docs.greatexpectations.io/docs/guides/connecting_to_your_data/connect_to_data_overview)!\n",
    "\n",
    "Give your datasource a unique name:"
   ]
  },
  {
   "cell_type": "code",
   "execution_count": 2,
   "id": "b36c7e47",
   "metadata": {},
   "outputs": [],
   "source": [
    "datasource_name = \"Goes_nexrad_ge\""
   ]
  },
  {
   "cell_type": "markdown",
   "id": "ec746185",
   "metadata": {},
   "source": [
    "### For files based Datasources:\n",
    "Here we are creating an example configuration.  The configuration contains an **InferredAssetFilesystemDataConnector** which will add a Data Asset for each file in the base directory you provided. It also contains a **RuntimeDataConnector** which can accept filepaths.   This is just an example, and you may customize this as you wish!\n",
    "\n",
    "Also, if you would like to learn more about the **DataConnectors** used in this configuration, including other methods to organize assets, handle multi-file assets, name assets based on parts of a filename, please see our docs on [InferredAssetDataConnectors](https://docs.greatexpectations.io/docs/guides/connecting_to_your_data/how_to_configure_an_inferredassetdataconnector) and [RuntimeDataConnectors](https://docs.greatexpectations.io/docs/guides/connecting_to_your_data/how_to_configure_a_runtimedataconnector).\n"
   ]
  },
  {
   "cell_type": "code",
   "execution_count": 3,
   "id": "8641395b",
   "metadata": {},
   "outputs": [
    {
     "name": "stdout",
     "output_type": "stream",
     "text": [
      "\n",
      "name: Goes_nexrad_ge\n",
      "class_name: Datasource\n",
      "execution_engine:\n",
      "  class_name: PandasExecutionEngine\n",
      "data_connectors:\n",
      "  default_inferred_data_connector_name:\n",
      "    class_name: InferredAssetFilesystemDataConnector\n",
      "    base_directory: data\n",
      "    default_regex:\n",
      "      group_names:\n",
      "        - data_asset_name\n",
      "      pattern: (.*)\\.csv\n",
      "  default_runtime_data_connector_name:\n",
      "    class_name: RuntimeDataConnector\n",
      "    assets:\n",
      "      my_runtime_asset_name:\n",
      "        batch_identifiers:\n",
      "          - runtime_batch_identifier_name\n",
      "\n"
     ]
    }
   ],
   "source": [
    "example_yaml = f\"\"\"\n",
    "name: {datasource_name}\n",
    "class_name: Datasource\n",
    "execution_engine:\n",
    "  class_name: PandasExecutionEngine\n",
    "data_connectors:\n",
    "  default_inferred_data_connector_name:\n",
    "    class_name: InferredAssetFilesystemDataConnector\n",
    "    base_directory: data\n",
    "    default_regex:\n",
    "      group_names:\n",
    "        - data_asset_name\n",
    "      pattern: (.*)\\.csv\n",
    "  default_runtime_data_connector_name:\n",
    "    class_name: RuntimeDataConnector\n",
    "    assets:\n",
    "      my_runtime_asset_name:\n",
    "        batch_identifiers:\n",
    "          - runtime_batch_identifier_name\n",
    "\"\"\"\n",
    "print(example_yaml)"
   ]
  },
  {
   "cell_type": "markdown",
   "id": "96aa5274",
   "metadata": {},
   "source": [
    "# Test Your Datasource Configuration\n",
    "Here we will test your Datasource configuration to make sure it is valid.\n",
    "\n",
    "This `test_yaml_config()` function is meant to enable fast dev loops. **If your\n",
    "configuration is correct, this cell will show you some snippets of the data\n",
    "assets in the data source.** You can continually edit your Datasource config\n",
    "yaml and re-run the cell to check until the new config is valid.\n",
    "\n",
    "If you instead wish to use python instead of yaml to configure your Datasource,\n",
    "you can use `context.add_datasource()` and specify all the required parameters."
   ]
  },
  {
   "cell_type": "code",
   "execution_count": 4,
   "id": "067a7e1b",
   "metadata": {},
   "outputs": [
    {
     "name": "stdout",
     "output_type": "stream",
     "text": [
      "Attempting to instantiate class from config...\n",
      "\tInstantiating as a Datasource, since class_name is Datasource\n",
      "\tSuccessfully instantiated Datasource\n",
      "\n",
      "\n",
      "ExecutionEngine class name: PandasExecutionEngine\n",
      "Data Connectors:\n",
      "\tdefault_inferred_data_connector_name : InferredAssetFilesystemDataConnector\n",
      "\n",
      "\tAvailable data_asset_names (2 of 2):\n",
      "\t\tNexrad_data (1 of 1): ['Nexrad_data.csv']\n",
      "\t\tdf_goes18 (1 of 1): ['df_goes18.csv']\n",
      "\n",
      "\tUnmatched data_references (0 of 0):[]\n",
      "\n",
      "\tdefault_runtime_data_connector_name:RuntimeDataConnector\n",
      "\n",
      "\tdefault_runtime_data_connector_name : RuntimeDataConnector\n",
      "\n",
      "\tAvailable data_asset_names (1 of 1):\n",
      "\t\tmy_runtime_asset_name (0 of 0): []\n",
      "\n",
      "\tUnmatched data_references (0 of 0):[]\n",
      "\n"
     ]
    },
    {
     "data": {
      "text/plain": [
       "<great_expectations.datasource.new_datasource.Datasource at 0x7fecdc979d20>"
      ]
     },
     "execution_count": 4,
     "metadata": {},
     "output_type": "execute_result"
    }
   ],
   "source": [
    "context.test_yaml_config(yaml_config=example_yaml)"
   ]
  },
  {
   "cell_type": "markdown",
   "id": "fd0552d0",
   "metadata": {},
   "source": [
    "## Save Your Datasource Configuration\n",
    "Here we will save your Datasource in your Data Context once you are satisfied with the configuration. Note that `overwrite_existing` defaults to False, but you may change it to True if you wish to overwrite. Please note that if you wish to include comments you must add them directly to your `great_expectations.yml`."
   ]
  },
  {
   "cell_type": "code",
   "execution_count": 5,
   "id": "9706fe30",
   "metadata": {},
   "outputs": [
    {
     "data": {
      "text/plain": [
       "[{'data_connectors': {'default_inferred_data_connector_name': {'base_directory': 'data',\n",
       "    'class_name': 'InferredAssetFilesystemDataConnector',\n",
       "    'default_regex': {'group_names': ['data_asset_name'],\n",
       "     'pattern': '(.*)\\\\.csv'},\n",
       "    'module_name': 'great_expectations.datasource.data_connector'},\n",
       "   'default_runtime_data_connector_name': {'assets': {'my_runtime_asset_name': {'batch_identifiers': ['runtime_batch_identifier_name'],\n",
       "      'class_name': 'Asset',\n",
       "      'module_name': 'great_expectations.datasource.data_connector.asset'}},\n",
       "    'class_name': 'RuntimeDataConnector',\n",
       "    'module_name': 'great_expectations.datasource.data_connector'}},\n",
       "  'execution_engine': {'class_name': 'PandasExecutionEngine',\n",
       "   'module_name': 'great_expectations.execution_engine'},\n",
       "  'class_name': 'Datasource',\n",
       "  'module_name': 'great_expectations.datasource',\n",
       "  'name': 'Goes_nexrad_ge'}]"
      ]
     },
     "execution_count": 5,
     "metadata": {},
     "output_type": "execute_result"
    }
   ],
   "source": [
    "sanitize_yaml_and_save_datasource(context, example_yaml, overwrite_existing=False)\n",
    "context.list_datasources()"
   ]
  },
  {
   "cell_type": "markdown",
   "id": "499f2866",
   "metadata": {},
   "source": [
    "Now you can close this notebook and delete it!"
   ]
  }
 ],
 "metadata": {
  "kernelspec": {
   "display_name": "Python 3 (ipykernel)",
   "language": "python",
   "name": "python3"
  },
  "language_info": {
   "codemirror_mode": {
    "name": "ipython",
    "version": 3
   },
   "file_extension": ".py",
   "mimetype": "text/x-python",
   "name": "python",
   "nbconvert_exporter": "python",
   "pygments_lexer": "ipython3",
   "version": "3.10.6"
  }
 },
 "nbformat": 4,
 "nbformat_minor": 5
}
