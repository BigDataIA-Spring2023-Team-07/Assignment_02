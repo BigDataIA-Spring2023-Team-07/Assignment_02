{
 "cells": [
  {
   "cell_type": "markdown",
   "id": "a1b5e909",
   "metadata": {},
   "source": [
    "# Edit Your Expectation Suite\n",
    "Use this notebook to recreate and modify your expectation suite:\n",
    "\n",
    "**Expectation Suite Name**: `Nexrad_data_validation`\n"
   ]
  },
  {
   "cell_type": "code",
   "execution_count": 1,
   "id": "4ab6abd5",
   "metadata": {},
   "outputs": [
    {
     "name": "stdout",
     "output_type": "stream",
     "text": [
      "2023-02-09T23:18:03-0500 - INFO - Great Expectations logging enabled at 20 level by JupyterUX module.\n",
      "2023-02-09T23:18:03-0500 - INFO - FileDataContext loading zep config\n",
      "2023-02-09T23:18:03-0500 - INFO - GxConfig.parse_yaml() failed with errors - [{'loc': ('xdatasources',), 'msg': 'field required', 'type': 'value_error.missing'}]\n",
      "2023-02-09T23:18:03-0500 - INFO - GxConfig.parse_yaml() returning empty `xdatasources`\n",
      "2023-02-09T23:18:03-0500 - INFO - Loading 'datasources' ->\n",
      "{}\n",
      "2023-02-09T23:18:03-0500 - INFO - Loaded 'datasources' ->\n",
      "{}\n",
      "Loaded ExpectationSuite \"Nexrad_data_validation\" containing 15 expectations.\n"
     ]
    }
   ],
   "source": [
    "import datetime\n",
    "\n",
    "import pandas as pd\n",
    "\n",
    "import great_expectations as gx\n",
    "import great_expectations.jupyter_ux\n",
    "from great_expectations.core.expectation_configuration import ExpectationConfiguration\n",
    "from great_expectations.data_context.types.resource_identifiers import ExpectationSuiteIdentifier\n",
    "from great_expectations.exceptions import DataContextError\n",
    "\n",
    "context = gx.get_context()\n",
    "\n",
    "\n",
    "# Feel free to change the name of your suite here. Renaming this will not remove the other one.\n",
    "expectation_suite_name = \"Nexrad_data_validation\"\n",
    "try:\n",
    "    suite = context.get_expectation_suite(expectation_suite_name=expectation_suite_name)\n",
    "    print(f'Loaded ExpectationSuite \"{suite.expectation_suite_name}\" containing {len(suite.expectations)} expectations.')\n",
    "except DataContextError:\n",
    "    suite = context.create_expectation_suite(expectation_suite_name=expectation_suite_name)\n",
    "    print(f'Created ExpectationSuite \"{suite.expectation_suite_name}\".')"
   ]
  },
  {
   "cell_type": "markdown",
   "id": "c2767915",
   "metadata": {},
   "source": [
    "## Create & Edit Expectations\n",
    "\n",
    "\n",
    "You are adding Expectation configurations to the suite. Since you selected manual mode, there is no sample batch of data and no validation happens during this process. See our documentation for more info and examples: **[How to create a new Expectation Suite without a sample batch](https://docs.greatexpectations.io/docs/guides/expectations/how_to_create_and_edit_expectations_based_on_domain_knowledge_without_inspecting_data_directly)**.\n",
    "\n",
    "Note that if you do use interactive mode you may specify a sample batch of data to use when creating your Expectation Suite. You can then use a `validator` to get immediate feedback on your Expectations against your specified sample batch.\n",
    "\n",
    "\n",
    "You can see all the available expectations in the **[expectation gallery](https://greatexpectations.io/expectations)**."
   ]
  },
  {
   "cell_type": "markdown",
   "id": "72790657",
   "metadata": {},
   "source": [
    "### Table Expectation(s)"
   ]
  },
  {
   "cell_type": "code",
   "execution_count": 2,
   "id": "da25d5c2",
   "metadata": {},
   "outputs": [
    {
     "data": {
      "text/plain": [
       "{\"kwargs\": {\"max_value\": 404, \"min_value\": 0}, \"expectation_type\": \"expect_table_row_count_to_be_between\", \"meta\": {\"profiler_details\": {\"metric_configuration\": {\"domain_kwargs\": {}, \"metric_name\": \"table.row_count\", \"metric_value_kwargs\": null}, \"num_batches\": 1}}}"
      ]
     },
     "execution_count": 2,
     "metadata": {},
     "output_type": "execute_result"
    }
   ],
   "source": [
    "\n",
    "expectation_configuration = ExpectationConfiguration(**{\n",
    "  \"kwargs\": {\n",
    "    \"max_value\": 404,\n",
    "    \"min_value\": 0\n",
    "  },\n",
    "  \"expectation_type\": \"expect_table_row_count_to_be_between\",\n",
    "  \"meta\": {\n",
    "    \"profiler_details\": {\n",
    "      \"metric_configuration\": {\n",
    "        \"domain_kwargs\": {},\n",
    "        \"metric_name\": \"table.row_count\",\n",
    "        \"metric_value_kwargs\": None\n",
    "      },\n",
    "      \"num_batches\": 1\n",
    "    }\n",
    "  }\n",
    "})\n",
    "suite.add_expectation(expectation_configuration=expectation_configuration)"
   ]
  },
  {
   "cell_type": "code",
   "execution_count": 3,
   "id": "7312a9e0",
   "metadata": {},
   "outputs": [
    {
     "data": {
      "text/plain": [
       "{\"kwargs\": {\"column_set\": [\"Day\", \"Station\", \"Year\", \"Month\"]}, \"expectation_type\": \"expect_table_columns_to_match_set\", \"meta\": {\"profiler_details\": {\"success_ratio\": 1.0}}}"
      ]
     },
     "execution_count": 3,
     "metadata": {},
     "output_type": "execute_result"
    }
   ],
   "source": [
    "\n",
    "expectation_configuration = ExpectationConfiguration(**{\n",
    "  \"kwargs\": {\n",
    "    \"column_set\": [\n",
    "      \"Day\",\n",
    "      \"Station\",\n",
    "      \"Year\",\n",
    "      \"Month\"\n",
    "    ]\n",
    "  },\n",
    "  \"expectation_type\": \"expect_table_columns_to_match_set\",\n",
    "  \"meta\": {\n",
    "    \"profiler_details\": {\n",
    "      \"success_ratio\": 1.0\n",
    "    }\n",
    "  }\n",
    "})\n",
    "suite.add_expectation(expectation_configuration=expectation_configuration)"
   ]
  },
  {
   "cell_type": "markdown",
   "id": "7f03888b",
   "metadata": {},
   "source": [
    "### Column Expectation(s)"
   ]
  },
  {
   "cell_type": "markdown",
   "id": "ad368f00",
   "metadata": {},
   "source": [
    "#### `Year`"
   ]
  },
  {
   "cell_type": "code",
   "execution_count": 4,
   "id": "5fad6593",
   "metadata": {},
   "outputs": [
    {
     "data": {
      "text/plain": [
       "{\"kwargs\": {\"column\": \"Year\"}, \"expectation_type\": \"expect_column_values_to_not_be_null\", \"meta\": {\"profiler_details\": {\"metric_configuration\": {\"domain_kwargs\": {\"column\": \"Year\"}, \"metric_name\": \"column_values.nonnull.unexpected_count\", \"metric_value_kwargs\": null}, \"num_batches\": 1}}}"
      ]
     },
     "execution_count": 4,
     "metadata": {},
     "output_type": "execute_result"
    }
   ],
   "source": [
    "\n",
    "expectation_configuration = ExpectationConfiguration(**{\n",
    "  \"kwargs\": {\n",
    "    \"column\": \"Year\"\n",
    "  },\n",
    "  \"expectation_type\": \"expect_column_values_to_not_be_null\",\n",
    "  \"meta\": {\n",
    "    \"profiler_details\": {\n",
    "      \"metric_configuration\": {\n",
    "        \"domain_kwargs\": {\n",
    "          \"column\": \"Year\"\n",
    "        },\n",
    "        \"metric_name\": \"column_values.nonnull.unexpected_count\",\n",
    "        \"metric_value_kwargs\": None\n",
    "      },\n",
    "      \"num_batches\": 1\n",
    "    }\n",
    "  }\n",
    "})\n",
    "suite.add_expectation(expectation_configuration=expectation_configuration)"
   ]
  },
  {
   "cell_type": "code",
   "execution_count": 5,
   "id": "7399a964",
   "metadata": {},
   "outputs": [
    {
     "data": {
      "text/plain": [
       "{\"kwargs\": {\"column\": \"Year\", \"max_value\": 2022, \"min_value\": 2022, \"strict_max\": false, \"strict_min\": false}, \"expectation_type\": \"expect_column_min_to_be_between\", \"meta\": {\"profiler_details\": {\"metric_configuration\": {\"domain_kwargs\": {\"column\": \"Year\"}, \"metric_name\": \"column.min\", \"metric_value_kwargs\": null}, \"num_batches\": 1}}}"
      ]
     },
     "execution_count": 5,
     "metadata": {},
     "output_type": "execute_result"
    }
   ],
   "source": [
    "\n",
    "expectation_configuration = ExpectationConfiguration(**{\n",
    "  \"kwargs\": {\n",
    "    \"column\": \"Year\",\n",
    "    \"max_value\": 2022,\n",
    "    \"min_value\": 2022,\n",
    "    \"strict_max\": False,\n",
    "    \"strict_min\": False\n",
    "  },\n",
    "  \"expectation_type\": \"expect_column_min_to_be_between\",\n",
    "  \"meta\": {\n",
    "    \"profiler_details\": {\n",
    "      \"metric_configuration\": {\n",
    "        \"domain_kwargs\": {\n",
    "          \"column\": \"Year\"\n",
    "        },\n",
    "        \"metric_name\": \"column.min\",\n",
    "        \"metric_value_kwargs\": None\n",
    "      },\n",
    "      \"num_batches\": 1\n",
    "    }\n",
    "  }\n",
    "})\n",
    "suite.add_expectation(expectation_configuration=expectation_configuration)"
   ]
  },
  {
   "cell_type": "code",
   "execution_count": 6,
   "id": "d8b8a27d",
   "metadata": {},
   "outputs": [
    {
     "data": {
      "text/plain": [
       "{\"kwargs\": {\"column\": \"Year\", \"max_value\": 2023, \"min_value\": 2023, \"strict_max\": false, \"strict_min\": false}, \"expectation_type\": \"expect_column_max_to_be_between\", \"meta\": {\"profiler_details\": {\"metric_configuration\": {\"domain_kwargs\": {\"column\": \"Year\"}, \"metric_name\": \"column.max\", \"metric_value_kwargs\": null}, \"num_batches\": 1}}}"
      ]
     },
     "execution_count": 6,
     "metadata": {},
     "output_type": "execute_result"
    }
   ],
   "source": [
    "\n",
    "expectation_configuration = ExpectationConfiguration(**{\n",
    "  \"kwargs\": {\n",
    "    \"column\": \"Year\",\n",
    "    \"max_value\": 2023,\n",
    "    \"min_value\": 2023,\n",
    "    \"strict_max\": False,\n",
    "    \"strict_min\": False\n",
    "  },\n",
    "  \"expectation_type\": \"expect_column_max_to_be_between\",\n",
    "  \"meta\": {\n",
    "    \"profiler_details\": {\n",
    "      \"metric_configuration\": {\n",
    "        \"domain_kwargs\": {\n",
    "          \"column\": \"Year\"\n",
    "        },\n",
    "        \"metric_name\": \"column.max\",\n",
    "        \"metric_value_kwargs\": None\n",
    "      },\n",
    "      \"num_batches\": 1\n",
    "    }\n",
    "  }\n",
    "})\n",
    "suite.add_expectation(expectation_configuration=expectation_configuration)"
   ]
  },
  {
   "cell_type": "code",
   "execution_count": 7,
   "id": "1b00cce6",
   "metadata": {},
   "outputs": [
    {
     "data": {
      "text/plain": [
       "{\"kwargs\": {\"column\": \"Year\", \"max_value\": 2023, \"min_value\": 2022, \"mostly\": 1.0, \"strict_max\": false, \"strict_min\": false}, \"expectation_type\": \"expect_column_values_to_be_between\", \"meta\": {\"profiler_details\": {\"column_max_values_range_estimator\": {\"metric_configuration\": {\"domain_kwargs\": {\"column\": \"Year\"}, \"metric_name\": \"column.max\", \"metric_value_kwargs\": null}, \"num_batches\": 1}, \"column_min_values_range_estimator\": {\"metric_configuration\": {\"domain_kwargs\": {\"column\": \"Year\"}, \"metric_name\": \"column.min\", \"metric_value_kwargs\": null}, \"num_batches\": 1}}}}"
      ]
     },
     "execution_count": 7,
     "metadata": {},
     "output_type": "execute_result"
    }
   ],
   "source": [
    "\n",
    "expectation_configuration = ExpectationConfiguration(**{\n",
    "  \"kwargs\": {\n",
    "    \"column\": \"Year\",\n",
    "    \"max_value\": 2023,\n",
    "    \"min_value\": 2022,\n",
    "    \"mostly\": 1.0,\n",
    "    \"strict_max\": False,\n",
    "    \"strict_min\": False\n",
    "  },\n",
    "  \"expectation_type\": \"expect_column_values_to_be_between\",\n",
    "  \"meta\": {\n",
    "    \"profiler_details\": {\n",
    "      \"column_max_values_range_estimator\": {\n",
    "        \"metric_configuration\": {\n",
    "          \"domain_kwargs\": {\n",
    "            \"column\": \"Year\"\n",
    "          },\n",
    "          \"metric_name\": \"column.max\",\n",
    "          \"metric_value_kwargs\": None\n",
    "        },\n",
    "        \"num_batches\": 1\n",
    "      },\n",
    "      \"column_min_values_range_estimator\": {\n",
    "        \"metric_configuration\": {\n",
    "          \"domain_kwargs\": {\n",
    "            \"column\": \"Year\"\n",
    "          },\n",
    "          \"metric_name\": \"column.min\",\n",
    "          \"metric_value_kwargs\": None\n",
    "        },\n",
    "        \"num_batches\": 1\n",
    "      }\n",
    "    }\n",
    "  }\n",
    "})\n",
    "suite.add_expectation(expectation_configuration=expectation_configuration)"
   ]
  },
  {
   "cell_type": "markdown",
   "id": "ff9515a5",
   "metadata": {},
   "source": [
    "#### `Month`"
   ]
  },
  {
   "cell_type": "code",
   "execution_count": 8,
   "id": "fbd209a0",
   "metadata": {},
   "outputs": [
    {
     "data": {
      "text/plain": [
       "{\"kwargs\": {\"column\": \"Month\"}, \"expectation_type\": \"expect_column_values_to_not_be_null\", \"meta\": {\"profiler_details\": {\"metric_configuration\": {\"domain_kwargs\": {\"column\": \"Month\"}, \"metric_name\": \"column_values.nonnull.unexpected_count\", \"metric_value_kwargs\": null}, \"num_batches\": 1}}}"
      ]
     },
     "execution_count": 8,
     "metadata": {},
     "output_type": "execute_result"
    }
   ],
   "source": [
    "\n",
    "expectation_configuration = ExpectationConfiguration(**{\n",
    "  \"kwargs\": {\n",
    "    \"column\": \"Month\"\n",
    "  },\n",
    "  \"expectation_type\": \"expect_column_values_to_not_be_null\",\n",
    "  \"meta\": {\n",
    "    \"profiler_details\": {\n",
    "      \"metric_configuration\": {\n",
    "        \"domain_kwargs\": {\n",
    "          \"column\": \"Month\"\n",
    "        },\n",
    "        \"metric_name\": \"column_values.nonnull.unexpected_count\",\n",
    "        \"metric_value_kwargs\": None\n",
    "      },\n",
    "      \"num_batches\": 1\n",
    "    }\n",
    "  }\n",
    "})\n",
    "suite.add_expectation(expectation_configuration=expectation_configuration)"
   ]
  },
  {
   "cell_type": "code",
   "execution_count": 9,
   "id": "85484412",
   "metadata": {},
   "outputs": [
    {
     "data": {
      "text/plain": [
       "{\"kwargs\": {\"column\": \"Month\", \"max_value\": 1, \"min_value\": 1, \"strict_max\": false, \"strict_min\": false}, \"expectation_type\": \"expect_column_min_to_be_between\", \"meta\": {\"profiler_details\": {\"metric_configuration\": {\"domain_kwargs\": {\"column\": \"Month\"}, \"metric_name\": \"column.min\", \"metric_value_kwargs\": null}, \"num_batches\": 1}}}"
      ]
     },
     "execution_count": 9,
     "metadata": {},
     "output_type": "execute_result"
    }
   ],
   "source": [
    "\n",
    "expectation_configuration = ExpectationConfiguration(**{\n",
    "  \"kwargs\": {\n",
    "    \"column\": \"Month\",\n",
    "    \"max_value\": 1,\n",
    "    \"min_value\": 1,\n",
    "    \"strict_max\": False,\n",
    "    \"strict_min\": False\n",
    "  },\n",
    "  \"expectation_type\": \"expect_column_min_to_be_between\",\n",
    "  \"meta\": {\n",
    "    \"profiler_details\": {\n",
    "      \"metric_configuration\": {\n",
    "        \"domain_kwargs\": {\n",
    "          \"column\": \"Month\"\n",
    "        },\n",
    "        \"metric_name\": \"column.min\",\n",
    "        \"metric_value_kwargs\": None\n",
    "      },\n",
    "      \"num_batches\": 1\n",
    "    }\n",
    "  }\n",
    "})\n",
    "suite.add_expectation(expectation_configuration=expectation_configuration)"
   ]
  },
  {
   "cell_type": "code",
   "execution_count": 10,
   "id": "a17839a3",
   "metadata": {},
   "outputs": [
    {
     "data": {
      "text/plain": [
       "{\"kwargs\": {\"column\": \"Month\", \"max_value\": 12, \"min_value\": 12, \"strict_max\": false, \"strict_min\": false}, \"expectation_type\": \"expect_column_max_to_be_between\", \"meta\": {\"profiler_details\": {\"metric_configuration\": {\"domain_kwargs\": {\"column\": \"Month\"}, \"metric_name\": \"column.max\", \"metric_value_kwargs\": null}, \"num_batches\": 1}}}"
      ]
     },
     "execution_count": 10,
     "metadata": {},
     "output_type": "execute_result"
    }
   ],
   "source": [
    "\n",
    "expectation_configuration = ExpectationConfiguration(**{\n",
    "  \"kwargs\": {\n",
    "    \"column\": \"Month\",\n",
    "    \"max_value\": 12,\n",
    "    \"min_value\": 12,\n",
    "    \"strict_max\": False,\n",
    "    \"strict_min\": False\n",
    "  },\n",
    "  \"expectation_type\": \"expect_column_max_to_be_between\",\n",
    "  \"meta\": {\n",
    "    \"profiler_details\": {\n",
    "      \"metric_configuration\": {\n",
    "        \"domain_kwargs\": {\n",
    "          \"column\": \"Month\"\n",
    "        },\n",
    "        \"metric_name\": \"column.max\",\n",
    "        \"metric_value_kwargs\": None\n",
    "      },\n",
    "      \"num_batches\": 1\n",
    "    }\n",
    "  }\n",
    "})\n",
    "suite.add_expectation(expectation_configuration=expectation_configuration)"
   ]
  },
  {
   "cell_type": "code",
   "execution_count": 11,
   "id": "01f3ed3d",
   "metadata": {},
   "outputs": [
    {
     "data": {
      "text/plain": [
       "{\"kwargs\": {\"column\": \"Month\", \"max_value\": 12, \"min_value\": 1, \"mostly\": 1.0, \"strict_max\": false, \"strict_min\": false}, \"expectation_type\": \"expect_column_values_to_be_between\", \"meta\": {\"profiler_details\": {\"column_max_values_range_estimator\": {\"metric_configuration\": {\"domain_kwargs\": {\"column\": \"Month\"}, \"metric_name\": \"column.max\", \"metric_value_kwargs\": null}, \"num_batches\": 1}, \"column_min_values_range_estimator\": {\"metric_configuration\": {\"domain_kwargs\": {\"column\": \"Month\"}, \"metric_name\": \"column.min\", \"metric_value_kwargs\": null}, \"num_batches\": 1}}}}"
      ]
     },
     "execution_count": 11,
     "metadata": {},
     "output_type": "execute_result"
    }
   ],
   "source": [
    "\n",
    "expectation_configuration = ExpectationConfiguration(**{\n",
    "  \"kwargs\": {\n",
    "    \"column\": \"Month\",\n",
    "    \"max_value\": 12,\n",
    "    \"min_value\": 1,\n",
    "    \"mostly\": 1.0,\n",
    "    \"strict_max\": False,\n",
    "    \"strict_min\": False\n",
    "  },\n",
    "  \"expectation_type\": \"expect_column_values_to_be_between\",\n",
    "  \"meta\": {\n",
    "    \"profiler_details\": {\n",
    "      \"column_max_values_range_estimator\": {\n",
    "        \"metric_configuration\": {\n",
    "          \"domain_kwargs\": {\n",
    "            \"column\": \"Month\"\n",
    "          },\n",
    "          \"metric_name\": \"column.max\",\n",
    "          \"metric_value_kwargs\": None\n",
    "        },\n",
    "        \"num_batches\": 1\n",
    "      },\n",
    "      \"column_min_values_range_estimator\": {\n",
    "        \"metric_configuration\": {\n",
    "          \"domain_kwargs\": {\n",
    "            \"column\": \"Month\"\n",
    "          },\n",
    "          \"metric_name\": \"column.min\",\n",
    "          \"metric_value_kwargs\": None\n",
    "        },\n",
    "        \"num_batches\": 1\n",
    "      }\n",
    "    }\n",
    "  }\n",
    "})\n",
    "suite.add_expectation(expectation_configuration=expectation_configuration)"
   ]
  },
  {
   "cell_type": "markdown",
   "id": "19782a13",
   "metadata": {},
   "source": [
    "#### `Day`"
   ]
  },
  {
   "cell_type": "code",
   "execution_count": 12,
   "id": "6ae3245d",
   "metadata": {},
   "outputs": [
    {
     "data": {
      "text/plain": [
       "{\"kwargs\": {\"column\": \"Day\"}, \"expectation_type\": \"expect_column_values_to_not_be_null\", \"meta\": {\"profiler_details\": {\"metric_configuration\": {\"domain_kwargs\": {\"column\": \"Day\"}, \"metric_name\": \"column_values.nonnull.unexpected_count\", \"metric_value_kwargs\": null}, \"num_batches\": 1}}}"
      ]
     },
     "execution_count": 12,
     "metadata": {},
     "output_type": "execute_result"
    }
   ],
   "source": [
    "\n",
    "expectation_configuration = ExpectationConfiguration(**{\n",
    "  \"kwargs\": {\n",
    "    \"column\": \"Day\"\n",
    "  },\n",
    "  \"expectation_type\": \"expect_column_values_to_not_be_null\",\n",
    "  \"meta\": {\n",
    "    \"profiler_details\": {\n",
    "      \"metric_configuration\": {\n",
    "        \"domain_kwargs\": {\n",
    "          \"column\": \"Day\"\n",
    "        },\n",
    "        \"metric_name\": \"column_values.nonnull.unexpected_count\",\n",
    "        \"metric_value_kwargs\": None\n",
    "      },\n",
    "      \"num_batches\": 1\n",
    "    }\n",
    "  }\n",
    "})\n",
    "suite.add_expectation(expectation_configuration=expectation_configuration)"
   ]
  },
  {
   "cell_type": "code",
   "execution_count": 13,
   "id": "04cb63b4",
   "metadata": {},
   "outputs": [
    {
     "data": {
      "text/plain": [
       "{\"kwargs\": {\"column\": \"Day\", \"max_value\": 1, \"min_value\": 1, \"strict_max\": false, \"strict_min\": false}, \"expectation_type\": \"expect_column_min_to_be_between\", \"meta\": {\"profiler_details\": {\"metric_configuration\": {\"domain_kwargs\": {\"column\": \"Year\"}, \"metric_name\": \"column.min\", \"metric_value_kwargs\": null}, \"num_batches\": 1}}}"
      ]
     },
     "execution_count": 13,
     "metadata": {},
     "output_type": "execute_result"
    }
   ],
   "source": [
    "\n",
    "expectation_configuration = ExpectationConfiguration(**{\n",
    "  \"kwargs\": {\n",
    "    \"column\": \"Day\",\n",
    "    \"max_value\": 1,\n",
    "    \"min_value\": 1,\n",
    "    \"strict_max\": False,\n",
    "    \"strict_min\": False\n",
    "  },\n",
    "  \"expectation_type\": \"expect_column_min_to_be_between\",\n",
    "  \"meta\": {\n",
    "    \"profiler_details\": {\n",
    "      \"metric_configuration\": {\n",
    "        \"domain_kwargs\": {\n",
    "          \"column\": \"Year\"\n",
    "        },\n",
    "        \"metric_name\": \"column.min\",\n",
    "        \"metric_value_kwargs\": None\n",
    "      },\n",
    "      \"num_batches\": 1\n",
    "    }\n",
    "  }\n",
    "})\n",
    "suite.add_expectation(expectation_configuration=expectation_configuration)"
   ]
  },
  {
   "cell_type": "code",
   "execution_count": 14,
   "id": "ed668d1c",
   "metadata": {},
   "outputs": [
    {
     "data": {
      "text/plain": [
       "{\"kwargs\": {\"column\": \"Day\", \"max_value\": 31, \"min_value\": 31, \"strict_max\": false, \"strict_min\": false}, \"expectation_type\": \"expect_column_max_to_be_between\", \"meta\": {\"profiler_details\": {\"metric_configuration\": {\"domain_kwargs\": {\"column\": \"Year\"}, \"metric_name\": \"column.min\", \"metric_value_kwargs\": null}, \"num_batches\": 1}}}"
      ]
     },
     "execution_count": 14,
     "metadata": {},
     "output_type": "execute_result"
    }
   ],
   "source": [
    "\n",
    "expectation_configuration = ExpectationConfiguration(**{\n",
    "  \"kwargs\": {\n",
    "    \"column\": \"Day\",\n",
    "    \"max_value\": 31,\n",
    "    \"min_value\": 31,\n",
    "    \"strict_max\": False,\n",
    "    \"strict_min\": False\n",
    "  },\n",
    "  \"expectation_type\": \"expect_column_max_to_be_between\",\n",
    "  \"meta\": {\n",
    "    \"profiler_details\": {\n",
    "      \"metric_configuration\": {\n",
    "        \"domain_kwargs\": {\n",
    "          \"column\": \"Year\"\n",
    "        },\n",
    "        \"metric_name\": \"column.min\",\n",
    "        \"metric_value_kwargs\": None\n",
    "      },\n",
    "      \"num_batches\": 1\n",
    "    }\n",
    "  }\n",
    "})\n",
    "suite.add_expectation(expectation_configuration=expectation_configuration)"
   ]
  },
  {
   "cell_type": "code",
   "execution_count": 15,
   "id": "01c6650e",
   "metadata": {},
   "outputs": [
    {
     "data": {
      "text/plain": [
       "{\"kwargs\": {\"column\": \"Day\", \"max_value\": 31, \"min_value\": 1, \"mostly\": 1.0, \"strict_max\": false, \"strict_min\": false}, \"expectation_type\": \"expect_column_values_to_be_between\", \"meta\": {\"profiler_details\": {\"column_max_values_range_estimator\": {\"metric_configuration\": {\"domain_kwargs\": {\"column\": \"Day\"}, \"metric_name\": \"column.max\", \"metric_value_kwargs\": null}, \"num_batches\": 1}, \"column_min_values_range_estimator\": {\"metric_configuration\": {\"domain_kwargs\": {\"column\": \"Day\"}, \"metric_name\": \"column.min\", \"metric_value_kwargs\": null}, \"num_batches\": 1}}}}"
      ]
     },
     "execution_count": 15,
     "metadata": {},
     "output_type": "execute_result"
    }
   ],
   "source": [
    "\n",
    "expectation_configuration = ExpectationConfiguration(**{\n",
    "  \"kwargs\": {\n",
    "    \"column\": \"Day\",\n",
    "    \"max_value\": 31,\n",
    "    \"min_value\": 1,\n",
    "    \"mostly\": 1.0,\n",
    "    \"strict_max\": False,\n",
    "    \"strict_min\": False\n",
    "  },\n",
    "  \"expectation_type\": \"expect_column_values_to_be_between\",\n",
    "  \"meta\": {\n",
    "    \"profiler_details\": {\n",
    "      \"column_max_values_range_estimator\": {\n",
    "        \"metric_configuration\": {\n",
    "          \"domain_kwargs\": {\n",
    "            \"column\": \"Day\"\n",
    "          },\n",
    "          \"metric_name\": \"column.max\",\n",
    "          \"metric_value_kwargs\": None\n",
    "        },\n",
    "        \"num_batches\": 1\n",
    "      },\n",
    "      \"column_min_values_range_estimator\": {\n",
    "        \"metric_configuration\": {\n",
    "          \"domain_kwargs\": {\n",
    "            \"column\": \"Day\"\n",
    "          },\n",
    "          \"metric_name\": \"column.min\",\n",
    "          \"metric_value_kwargs\": None\n",
    "        },\n",
    "        \"num_batches\": 1\n",
    "      }\n",
    "    }\n",
    "  }\n",
    "})\n",
    "suite.add_expectation(expectation_configuration=expectation_configuration)"
   ]
  },
  {
   "cell_type": "markdown",
   "id": "7cdd48c7",
   "metadata": {},
   "source": [
    "#### `Station`"
   ]
  },
  {
   "cell_type": "code",
   "execution_count": 16,
   "id": "ae964d5d",
   "metadata": {},
   "outputs": [
    {
     "data": {
      "text/plain": [
       "{\"kwargs\": {\"column\": \"Station\"}, \"expectation_type\": \"expect_column_values_to_not_be_null\", \"meta\": {\"profiler_details\": {\"metric_configuration\": {\"domain_kwargs\": {\"column\": \"Station\"}, \"metric_name\": \"column_values.nonnull.unexpected_count\", \"metric_value_kwargs\": null}, \"num_batches\": 1}}}"
      ]
     },
     "execution_count": 16,
     "metadata": {},
     "output_type": "execute_result"
    }
   ],
   "source": [
    "\n",
    "expectation_configuration = ExpectationConfiguration(**{\n",
    "  \"kwargs\": {\n",
    "    \"column\": \"Station\"\n",
    "  },\n",
    "  \"expectation_type\": \"expect_column_values_to_not_be_null\",\n",
    "  \"meta\": {\n",
    "    \"profiler_details\": {\n",
    "      \"metric_configuration\": {\n",
    "        \"domain_kwargs\": {\n",
    "          \"column\": \"Station\"\n",
    "        },\n",
    "        \"metric_name\": \"column_values.nonnull.unexpected_count\",\n",
    "        \"metric_value_kwargs\": None\n",
    "      },\n",
    "      \"num_batches\": 1\n",
    "    }\n",
    "  }\n",
    "})\n",
    "suite.add_expectation(expectation_configuration=expectation_configuration)"
   ]
  },
  {
   "cell_type": "markdown",
   "id": "812d2aa7",
   "metadata": {},
   "source": [
    "## Review & Save Your Expectations\n",
    "\n",
    "Let's save the expectation suite as a JSON file in the `great_expectations/expectations` directory of your project.\n",
    "\n",
    "Let's now rebuild your Data Docs, which helps you communicate about your data with both machines and humans."
   ]
  },
  {
   "cell_type": "code",
   "execution_count": 17,
   "id": "b94beb9c",
   "metadata": {},
   "outputs": [
    {
     "name": "stdout",
     "output_type": "stream",
     "text": [
      "{\n",
      "  \"expectations\": [\n",
      "    {\n",
      "      \"kwargs\": {\n",
      "        \"max_value\": 404,\n",
      "        \"min_value\": 0\n",
      "      },\n",
      "      \"expectation_type\": \"expect_table_row_count_to_be_between\",\n",
      "      \"meta\": {\n",
      "        \"profiler_details\": {\n",
      "          \"metric_configuration\": {\n",
      "            \"domain_kwargs\": {},\n",
      "            \"metric_name\": \"table.row_count\",\n",
      "            \"metric_value_kwargs\": null\n",
      "          },\n",
      "          \"num_batches\": 1\n",
      "        }\n",
      "      }\n",
      "    },\n",
      "    {\n",
      "      \"kwargs\": {\n",
      "        \"column_set\": [\n",
      "          \"Day\",\n",
      "          \"Station\",\n",
      "          \"Year\",\n",
      "          \"Month\"\n",
      "        ]\n",
      "      },\n",
      "      \"expectation_type\": \"expect_table_columns_to_match_set\",\n",
      "      \"meta\": {\n",
      "        \"profiler_details\": {\n",
      "          \"success_ratio\": 1.0\n",
      "        }\n",
      "      }\n",
      "    },\n",
      "    {\n",
      "      \"kwargs\": {\n",
      "        \"column\": \"Year\"\n",
      "      },\n",
      "      \"expectation_type\": \"expect_column_values_to_not_be_null\",\n",
      "      \"meta\": {\n",
      "        \"profiler_details\": {\n",
      "          \"metric_configuration\": {\n",
      "            \"domain_kwargs\": {\n",
      "              \"column\": \"Year\"\n",
      "            },\n",
      "            \"metric_name\": \"column_values.nonnull.unexpected_count\",\n",
      "            \"metric_value_kwargs\": null\n",
      "          },\n",
      "          \"num_batches\": 1\n",
      "        }\n",
      "      }\n",
      "    },\n",
      "    {\n",
      "      \"kwargs\": {\n",
      "        \"column\": \"Month\"\n",
      "      },\n",
      "      \"expectation_type\": \"expect_column_values_to_not_be_null\",\n",
      "      \"meta\": {\n",
      "        \"profiler_details\": {\n",
      "          \"metric_configuration\": {\n",
      "            \"domain_kwargs\": {\n",
      "              \"column\": \"Month\"\n",
      "            },\n",
      "            \"metric_name\": \"column_values.nonnull.unexpected_count\",\n",
      "            \"metric_value_kwargs\": null\n",
      "          },\n",
      "          \"num_batches\": 1\n",
      "        }\n",
      "      }\n",
      "    },\n",
      "    {\n",
      "      \"kwargs\": {\n",
      "        \"column\": \"Day\"\n",
      "      },\n",
      "      \"expectation_type\": \"expect_column_values_to_not_be_null\",\n",
      "      \"meta\": {\n",
      "        \"profiler_details\": {\n",
      "          \"metric_configuration\": {\n",
      "            \"domain_kwargs\": {\n",
      "              \"column\": \"Day\"\n",
      "            },\n",
      "            \"metric_name\": \"column_values.nonnull.unexpected_count\",\n",
      "            \"metric_value_kwargs\": null\n",
      "          },\n",
      "          \"num_batches\": 1\n",
      "        }\n",
      "      }\n",
      "    },\n",
      "    {\n",
      "      \"kwargs\": {\n",
      "        \"column\": \"Station\"\n",
      "      },\n",
      "      \"expectation_type\": \"expect_column_values_to_not_be_null\",\n",
      "      \"meta\": {\n",
      "        \"profiler_details\": {\n",
      "          \"metric_configuration\": {\n",
      "            \"domain_kwargs\": {\n",
      "              \"column\": \"Station\"\n",
      "            },\n",
      "            \"metric_name\": \"column_values.nonnull.unexpected_count\",\n",
      "            \"metric_value_kwargs\": null\n",
      "          },\n",
      "          \"num_batches\": 1\n",
      "        }\n",
      "      }\n",
      "    },\n",
      "    {\n",
      "      \"kwargs\": {\n",
      "        \"column\": \"Day\",\n",
      "        \"max_value\": 1,\n",
      "        \"min_value\": 1,\n",
      "        \"strict_max\": false,\n",
      "        \"strict_min\": false\n",
      "      },\n",
      "      \"expectation_type\": \"expect_column_min_to_be_between\",\n",
      "      \"meta\": {\n",
      "        \"profiler_details\": {\n",
      "          \"metric_configuration\": {\n",
      "            \"domain_kwargs\": {\n",
      "              \"column\": \"Year\"\n",
      "            },\n",
      "            \"metric_name\": \"column.min\",\n",
      "            \"metric_value_kwargs\": null\n",
      "          },\n",
      "          \"num_batches\": 1\n",
      "        }\n",
      "      }\n",
      "    },\n",
      "    {\n",
      "      \"kwargs\": {\n",
      "        \"column\": \"Day\",\n",
      "        \"max_value\": 31,\n",
      "        \"min_value\": 31,\n",
      "        \"strict_max\": false,\n",
      "        \"strict_min\": false\n",
      "      },\n",
      "      \"expectation_type\": \"expect_column_max_to_be_between\",\n",
      "      \"meta\": {\n",
      "        \"profiler_details\": {\n",
      "          \"metric_configuration\": {\n",
      "            \"domain_kwargs\": {\n",
      "              \"column\": \"Year\"\n",
      "            },\n",
      "            \"metric_name\": \"column.min\",\n",
      "            \"metric_value_kwargs\": null\n",
      "          },\n",
      "          \"num_batches\": 1\n",
      "        }\n",
      "      }\n",
      "    },\n",
      "    {\n",
      "      \"kwargs\": {\n",
      "        \"column\": \"Year\",\n",
      "        \"max_value\": 2022,\n",
      "        \"min_value\": 2022,\n",
      "        \"strict_max\": false,\n",
      "        \"strict_min\": false\n",
      "      },\n",
      "      \"expectation_type\": \"expect_column_min_to_be_between\",\n",
      "      \"meta\": {\n",
      "        \"profiler_details\": {\n",
      "          \"metric_configuration\": {\n",
      "            \"domain_kwargs\": {\n",
      "              \"column\": \"Year\"\n",
      "            },\n",
      "            \"metric_name\": \"column.min\",\n",
      "            \"metric_value_kwargs\": null\n",
      "          },\n",
      "          \"num_batches\": 1\n",
      "        }\n",
      "      }\n",
      "    },\n",
      "    {\n",
      "      \"kwargs\": {\n",
      "        \"column\": \"Year\",\n",
      "        \"max_value\": 2023,\n",
      "        \"min_value\": 2023,\n",
      "        \"strict_max\": false,\n",
      "        \"strict_min\": false\n",
      "      },\n",
      "      \"expectation_type\": \"expect_column_max_to_be_between\",\n",
      "      \"meta\": {\n",
      "        \"profiler_details\": {\n",
      "          \"metric_configuration\": {\n",
      "            \"domain_kwargs\": {\n",
      "              \"column\": \"Year\"\n",
      "            },\n",
      "            \"metric_name\": \"column.max\",\n",
      "            \"metric_value_kwargs\": null\n",
      "          },\n",
      "          \"num_batches\": 1\n",
      "        }\n",
      "      }\n",
      "    },\n",
      "    {\n",
      "      \"kwargs\": {\n",
      "        \"column\": \"Year\",\n",
      "        \"max_value\": 2023,\n",
      "        \"min_value\": 2022,\n",
      "        \"mostly\": 1.0,\n",
      "        \"strict_max\": false,\n",
      "        \"strict_min\": false\n",
      "      },\n",
      "      \"expectation_type\": \"expect_column_values_to_be_between\",\n",
      "      \"meta\": {\n",
      "        \"profiler_details\": {\n",
      "          \"column_max_values_range_estimator\": {\n",
      "            \"metric_configuration\": {\n",
      "              \"domain_kwargs\": {\n",
      "                \"column\": \"Year\"\n",
      "              },\n",
      "              \"metric_name\": \"column.max\",\n",
      "              \"metric_value_kwargs\": null\n",
      "            },\n",
      "            \"num_batches\": 1\n",
      "          },\n",
      "          \"column_min_values_range_estimator\": {\n",
      "            \"metric_configuration\": {\n",
      "              \"domain_kwargs\": {\n",
      "                \"column\": \"Year\"\n",
      "              },\n",
      "              \"metric_name\": \"column.min\",\n",
      "              \"metric_value_kwargs\": null\n",
      "            },\n",
      "            \"num_batches\": 1\n",
      "          }\n",
      "        }\n",
      "      }\n",
      "    },\n",
      "    {\n",
      "      \"kwargs\": {\n",
      "        \"column\": \"Month\",\n",
      "        \"max_value\": 1,\n",
      "        \"min_value\": 1,\n",
      "        \"strict_max\": false,\n",
      "        \"strict_min\": false\n",
      "      },\n",
      "      \"expectation_type\": \"expect_column_min_to_be_between\",\n",
      "      \"meta\": {\n",
      "        \"profiler_details\": {\n",
      "          \"metric_configuration\": {\n",
      "            \"domain_kwargs\": {\n",
      "              \"column\": \"Month\"\n",
      "            },\n",
      "            \"metric_name\": \"column.min\",\n",
      "            \"metric_value_kwargs\": null\n",
      "          },\n",
      "          \"num_batches\": 1\n",
      "        }\n",
      "      }\n",
      "    },\n",
      "    {\n",
      "      \"kwargs\": {\n",
      "        \"column\": \"Month\",\n",
      "        \"max_value\": 12,\n",
      "        \"min_value\": 12,\n",
      "        \"strict_max\": false,\n",
      "        \"strict_min\": false\n",
      "      },\n",
      "      \"expectation_type\": \"expect_column_max_to_be_between\",\n",
      "      \"meta\": {\n",
      "        \"profiler_details\": {\n",
      "          \"metric_configuration\": {\n",
      "            \"domain_kwargs\": {\n",
      "              \"column\": \"Month\"\n",
      "            },\n",
      "            \"metric_name\": \"column.max\",\n",
      "            \"metric_value_kwargs\": null\n",
      "          },\n",
      "          \"num_batches\": 1\n",
      "        }\n",
      "      }\n",
      "    },\n",
      "    {\n",
      "      \"kwargs\": {\n",
      "        \"column\": \"Month\",\n",
      "        \"max_value\": 12,\n",
      "        \"min_value\": 1,\n",
      "        \"mostly\": 1.0,\n",
      "        \"strict_max\": false,\n",
      "        \"strict_min\": false\n",
      "      },\n",
      "      \"expectation_type\": \"expect_column_values_to_be_between\",\n",
      "      \"meta\": {\n",
      "        \"profiler_details\": {\n",
      "          \"column_max_values_range_estimator\": {\n",
      "            \"metric_configuration\": {\n",
      "              \"domain_kwargs\": {\n",
      "                \"column\": \"Month\"\n",
      "              },\n",
      "              \"metric_name\": \"column.max\",\n",
      "              \"metric_value_kwargs\": null\n",
      "            },\n",
      "            \"num_batches\": 1\n",
      "          },\n",
      "          \"column_min_values_range_estimator\": {\n",
      "            \"metric_configuration\": {\n",
      "              \"domain_kwargs\": {\n",
      "                \"column\": \"Month\"\n",
      "              },\n",
      "              \"metric_name\": \"column.min\",\n",
      "              \"metric_value_kwargs\": null\n",
      "            },\n",
      "            \"num_batches\": 1\n",
      "          }\n",
      "        }\n",
      "      }\n",
      "    },\n",
      "    {\n",
      "      \"kwargs\": {\n",
      "        \"column\": \"Day\",\n",
      "        \"max_value\": 31,\n",
      "        \"min_value\": 1,\n",
      "        \"mostly\": 1.0,\n",
      "        \"strict_max\": false,\n",
      "        \"strict_min\": false\n",
      "      },\n",
      "      \"expectation_type\": \"expect_column_values_to_be_between\",\n",
      "      \"meta\": {\n",
      "        \"profiler_details\": {\n",
      "          \"column_max_values_range_estimator\": {\n",
      "            \"metric_configuration\": {\n",
      "              \"domain_kwargs\": {\n",
      "                \"column\": \"Day\"\n",
      "              },\n",
      "              \"metric_name\": \"column.max\",\n",
      "              \"metric_value_kwargs\": null\n",
      "            },\n",
      "            \"num_batches\": 1\n",
      "          },\n",
      "          \"column_min_values_range_estimator\": {\n",
      "            \"metric_configuration\": {\n",
      "              \"domain_kwargs\": {\n",
      "                \"column\": \"Day\"\n",
      "              },\n",
      "              \"metric_name\": \"column.min\",\n",
      "              \"metric_value_kwargs\": null\n",
      "            },\n",
      "            \"num_batches\": 1\n",
      "          }\n",
      "        }\n",
      "      }\n",
      "    }\n",
      "  ],\n",
      "  \"expectation_suite_name\": \"Nexrad_data_validation\",\n",
      "  \"meta\": {\n",
      "    \"citations\": [\n",
      "      {\n",
      "        \"citation_date\": \"2023-02-10T04:08:24.024258Z\",\n",
      "        \"comment\": \"Created by effective Rule-Based Profiler of OnboardingDataAssistant with the configuration included.\\n\"\n",
      "      }\n",
      "    ],\n",
      "    \"great_expectations_version\": \"0.15.46\"\n",
      "  },\n",
      "  \"data_asset_type\": null,\n",
      "  \"ge_cloud_id\": null\n",
      "}\n"
     ]
    }
   ],
   "source": [
    "print(context.get_expectation_suite(expectation_suite_name=expectation_suite_name))\n",
    "context.save_expectation_suite(expectation_suite=suite, expectation_suite_name=expectation_suite_name)\n",
    "\n",
    "suite_identifier = ExpectationSuiteIdentifier(expectation_suite_name=expectation_suite_name)\n",
    "context.build_data_docs(resource_identifiers=[suite_identifier])\n",
    "context.open_data_docs(resource_identifier=suite_identifier)"
   ]
  }
 ],
 "metadata": {
  "kernelspec": {
   "display_name": "Python 3 (ipykernel)",
   "language": "python",
   "name": "python3"
  },
  "language_info": {
   "codemirror_mode": {
    "name": "ipython",
    "version": 3
   },
   "file_extension": ".py",
   "mimetype": "text/x-python",
   "name": "python",
   "nbconvert_exporter": "python",
   "pygments_lexer": "ipython3",
   "version": "3.10.6"
  }
 },
 "nbformat": 4,
 "nbformat_minor": 5
}
